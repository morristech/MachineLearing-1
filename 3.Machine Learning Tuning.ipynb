{
 "cells": [
  {
   "cell_type": "markdown",
   "metadata": {},
   "source": [
    "# 3. Machine Learning Tuning"
   ]
  },
  {
   "cell_type": "code",
   "execution_count": 3,
   "metadata": {},
   "outputs": [],
   "source": [
    "import warnings\n",
    "warnings.simplefilter('ignore' )\n",
    "%matplotlib inline\n",
    "import matplotlib.pyplot as plt\n",
    "import numpy as np\n",
    "import pandas as pd\n",
    "\n",
    "from __future__ import division\n",
    "plt.rcParams['figure.figsize'] = (18,6) "
   ]
  },
  {
   "cell_type": "code",
   "execution_count": 4,
   "metadata": {},
   "outputs": [
    {
     "data": {
      "text/html": [
       "<div>\n",
       "<style scoped>\n",
       "    .dataframe tbody tr th:only-of-type {\n",
       "        vertical-align: middle;\n",
       "    }\n",
       "\n",
       "    .dataframe tbody tr th {\n",
       "        vertical-align: top;\n",
       "    }\n",
       "\n",
       "    .dataframe thead th {\n",
       "        text-align: right;\n",
       "    }\n",
       "</style>\n",
       "<table border=\"1\" class=\"dataframe\">\n",
       "  <thead>\n",
       "    <tr style=\"text-align: right;\">\n",
       "      <th></th>\n",
       "      <th>numeric</th>\n",
       "      <th>text</th>\n",
       "      <th>with_missing</th>\n",
       "      <th>label</th>\n",
       "    </tr>\n",
       "  </thead>\n",
       "  <tbody>\n",
       "    <tr>\n",
       "      <th>0</th>\n",
       "      <td>-10.856306</td>\n",
       "      <td></td>\n",
       "      <td>4.433240</td>\n",
       "      <td>b</td>\n",
       "    </tr>\n",
       "    <tr>\n",
       "      <th>1</th>\n",
       "      <td>9.973454</td>\n",
       "      <td>foo</td>\n",
       "      <td>4.310229</td>\n",
       "      <td>b</td>\n",
       "    </tr>\n",
       "    <tr>\n",
       "      <th>2</th>\n",
       "      <td>2.829785</td>\n",
       "      <td>foo bar</td>\n",
       "      <td>2.469828</td>\n",
       "      <td>a</td>\n",
       "    </tr>\n",
       "    <tr>\n",
       "      <th>3</th>\n",
       "      <td>-15.062947</td>\n",
       "      <td></td>\n",
       "      <td>2.852981</td>\n",
       "      <td>b</td>\n",
       "    </tr>\n",
       "    <tr>\n",
       "      <th>4</th>\n",
       "      <td>-5.786003</td>\n",
       "      <td>foo bar</td>\n",
       "      <td>1.826475</td>\n",
       "      <td>a</td>\n",
       "    </tr>\n",
       "  </tbody>\n",
       "</table>\n",
       "</div>"
      ],
      "text/plain": [
       "     numeric     text  with_missing label\n",
       "0 -10.856306               4.433240     b\n",
       "1   9.973454      foo      4.310229     b\n",
       "2   2.829785  foo bar      2.469828     a\n",
       "3 -15.062947               2.852981     b\n",
       "4  -5.786003  foo bar      1.826475     a"
      ]
     },
     "execution_count": 4,
     "metadata": {},
     "output_type": "execute_result"
    }
   ],
   "source": [
    "dataset = pd.read_json('dataset.json',orient='split')\n",
    "dataset.head()"
   ]
  },
  {
   "cell_type": "code",
   "execution_count": 5,
   "metadata": {},
   "outputs": [
    {
     "name": "stdout",
     "output_type": "stream",
     "text": [
      "<class 'pandas.core.frame.DataFrame'>\n",
      "Int64Index: 1000 entries, 0 to 999\n",
      "Data columns (total 4 columns):\n",
      "numeric         1000 non-null float64\n",
      "text            1000 non-null object\n",
      "with_missing    822 non-null float64\n",
      "label           1000 non-null object\n",
      "dtypes: float64(2), object(2)\n",
      "memory usage: 39.1+ KB\n"
     ]
    }
   ],
   "source": [
    "dataset.info()"
   ]
  },
  {
   "cell_type": "code",
   "execution_count": 6,
   "metadata": {},
   "outputs": [
    {
     "data": {
      "text/plain": [
       "210"
      ]
     },
     "execution_count": 6,
     "metadata": {},
     "output_type": "execute_result"
    }
   ],
   "source": [
    "# Value empty in 'text column'\n",
    "dataset[dataset['text']==''].shape[0]"
   ]
  },
  {
   "cell_type": "code",
   "execution_count": 7,
   "metadata": {},
   "outputs": [
    {
     "data": {
      "text/html": [
       "<div>\n",
       "<style scoped>\n",
       "    .dataframe tbody tr th:only-of-type {\n",
       "        vertical-align: middle;\n",
       "    }\n",
       "\n",
       "    .dataframe tbody tr th {\n",
       "        vertical-align: top;\n",
       "    }\n",
       "\n",
       "    .dataframe thead th {\n",
       "        text-align: right;\n",
       "    }\n",
       "</style>\n",
       "<table border=\"1\" class=\"dataframe\">\n",
       "  <thead>\n",
       "    <tr style=\"text-align: right;\">\n",
       "      <th></th>\n",
       "      <th>count</th>\n",
       "      <th>mean</th>\n",
       "      <th>std</th>\n",
       "      <th>min</th>\n",
       "      <th>25%</th>\n",
       "      <th>50%</th>\n",
       "      <th>75%</th>\n",
       "      <th>max</th>\n",
       "    </tr>\n",
       "  </thead>\n",
       "  <tbody>\n",
       "    <tr>\n",
       "      <th>numeric</th>\n",
       "      <td>1000.0</td>\n",
       "      <td>-0.395641</td>\n",
       "      <td>10.012883</td>\n",
       "      <td>-32.310550</td>\n",
       "      <td>-6.845566</td>\n",
       "      <td>-0.411856</td>\n",
       "      <td>6.688657</td>\n",
       "      <td>35.715792</td>\n",
       "    </tr>\n",
       "    <tr>\n",
       "      <th>with_missing</th>\n",
       "      <td>822.0</td>\n",
       "      <td>3.025194</td>\n",
       "      <td>0.994960</td>\n",
       "      <td>-0.801378</td>\n",
       "      <td>2.386520</td>\n",
       "      <td>3.022887</td>\n",
       "      <td>3.693381</td>\n",
       "      <td>5.850708</td>\n",
       "    </tr>\n",
       "  </tbody>\n",
       "</table>\n",
       "</div>"
      ],
      "text/plain": [
       "               count      mean        std        min       25%       50%  \\\n",
       "numeric       1000.0 -0.395641  10.012883 -32.310550 -6.845566 -0.411856   \n",
       "with_missing   822.0  3.025194   0.994960  -0.801378  2.386520  3.022887   \n",
       "\n",
       "                   75%        max  \n",
       "numeric       6.688657  35.715792  \n",
       "with_missing  3.693381   5.850708  "
      ]
     },
     "execution_count": 7,
     "metadata": {},
     "output_type": "execute_result"
    }
   ],
   "source": [
    "dataset.describe().T"
   ]
  },
  {
   "cell_type": "code",
   "execution_count": 8,
   "metadata": {},
   "outputs": [
    {
     "data": {
      "text/plain": [
       "0    b\n",
       "1    b\n",
       "2    a\n",
       "3    b\n",
       "4    a\n",
       "Name: label, dtype: object"
      ]
     },
     "execution_count": 8,
     "metadata": {},
     "output_type": "execute_result"
    }
   ],
   "source": [
    "dataset['label'].head()"
   ]
  },
  {
   "cell_type": "code",
   "execution_count": 9,
   "metadata": {},
   "outputs": [
    {
     "data": {
      "text/html": [
       "<div>\n",
       "<style scoped>\n",
       "    .dataframe tbody tr th:only-of-type {\n",
       "        vertical-align: middle;\n",
       "    }\n",
       "\n",
       "    .dataframe tbody tr th {\n",
       "        vertical-align: top;\n",
       "    }\n",
       "\n",
       "    .dataframe thead th {\n",
       "        text-align: right;\n",
       "    }\n",
       "</style>\n",
       "<table border=\"1\" class=\"dataframe\">\n",
       "  <thead>\n",
       "    <tr style=\"text-align: right;\">\n",
       "      <th></th>\n",
       "      <th>a</th>\n",
       "      <th>b</th>\n",
       "    </tr>\n",
       "  </thead>\n",
       "  <tbody>\n",
       "    <tr>\n",
       "      <th>0</th>\n",
       "      <td>0</td>\n",
       "      <td>1</td>\n",
       "    </tr>\n",
       "    <tr>\n",
       "      <th>1</th>\n",
       "      <td>0</td>\n",
       "      <td>1</td>\n",
       "    </tr>\n",
       "    <tr>\n",
       "      <th>2</th>\n",
       "      <td>1</td>\n",
       "      <td>0</td>\n",
       "    </tr>\n",
       "    <tr>\n",
       "      <th>3</th>\n",
       "      <td>0</td>\n",
       "      <td>1</td>\n",
       "    </tr>\n",
       "    <tr>\n",
       "      <th>4</th>\n",
       "      <td>1</td>\n",
       "      <td>0</td>\n",
       "    </tr>\n",
       "  </tbody>\n",
       "</table>\n",
       "</div>"
      ],
      "text/plain": [
       "   a  b\n",
       "0  0  1\n",
       "1  0  1\n",
       "2  1  0\n",
       "3  0  1\n",
       "4  1  0"
      ]
     },
     "execution_count": 9,
     "metadata": {},
     "output_type": "execute_result"
    }
   ],
   "source": [
    "pd.get_dummies(dataset['label']).head()"
   ]
  },
  {
   "cell_type": "code",
   "execution_count": 10,
   "metadata": {},
   "outputs": [
    {
     "name": "stdout",
     "output_type": "stream",
     "text": [
      "Accuracy on dataframe with Numerical & Label:  0.64\n"
     ]
    }
   ],
   "source": [
    "from sklearn.pipeline import Pipeline\n",
    "\n",
    "from sklearn.model_selection import train_test_split\n",
    "from sklearn.linear_model import LogisticRegression\n",
    "from sklearn.multiclass import OneVsRestClassifier\n",
    "\n",
    "X_train, X_test, y_train, y_test = train_test_split(dataset[['numeric']],\n",
    "                                                    pd.get_dummies(dataset['label']))\n",
    "\n",
    "pl = Pipeline([ ('model', OneVsRestClassifier(LogisticRegression())) ])\n",
    "\n",
    "pl.fit(X_train, y_train)\n",
    "\n",
    "accuracy = pl.score(X_test, y_test)\n",
    "print(\"Accuracy on dataframe with Numerical & Label: \", accuracy)"
   ]
  },
  {
   "cell_type": "code",
   "execution_count": 11,
   "metadata": {},
   "outputs": [
    {
     "name": "stdout",
     "output_type": "stream",
     "text": [
      "Accuracy on dataframe with All Numerical:  0.636\n"
     ]
    }
   ],
   "source": [
    "from sklearn.preprocessing import Imputer\n",
    "\n",
    "X_train, X_test, y_train, y_test = train_test_split(dataset[['numeric', 'with_missing']],\n",
    "                                                    pd.get_dummies(dataset['label']))\n",
    "\n",
    "pl = Pipeline([\n",
    "        ('imputer', Imputer()),\n",
    "        ('model', OneVsRestClassifier(LogisticRegression()))\n",
    "    ])\n",
    "\n",
    "pl.fit(X_train,y_train)\n",
    "\n",
    "# Compute and print accuracy\n",
    "accuracy = pl.score(X_test,y_test)\n",
    "print(\"Accuracy on dataframe with All Numerical: \", pl.score(X_test,y_test))"
   ]
  },
  {
   "cell_type": "code",
   "execution_count": 12,
   "metadata": {},
   "outputs": [
    {
     "name": "stdout",
     "output_type": "stream",
     "text": [
      "Accuracy on dataframe with only text data:  0.788\n"
     ]
    }
   ],
   "source": [
    "from sklearn.feature_extraction.text import CountVectorizer\n",
    "\n",
    "X_train, X_test, y_train, y_test = train_test_split(dataset['text'],\n",
    "                                                    pd.get_dummies(dataset['label']))\n",
    "\n",
    "pl = Pipeline([\n",
    "        ('vec', CountVectorizer()),\n",
    "        ('model', OneVsRestClassifier(LogisticRegression())) ])\n",
    "\n",
    "pl.fit(X_train,y_train)\n",
    "print(\"Accuracy on dataframe with only text data: \", pl.score(X_test,y_test))"
   ]
  },
  {
   "cell_type": "code",
   "execution_count": 13,
   "metadata": {},
   "outputs": [
    {
     "name": "stdout",
     "output_type": "stream",
     "text": [
      "Extracting Text Data\n",
      "0           \n",
      "1        foo\n",
      "2    foo bar\n",
      "3           \n",
      "4    foo bar\n",
      "Name: text, dtype: object\n",
      "Extracting Numeric Data\n",
      "     numeric  with_missing\n",
      "0 -10.856306      4.433240\n",
      "1   9.973454      4.310229\n",
      "2   2.829785      2.469828\n",
      "3 -15.062947      2.852981\n",
      "4  -5.786003      1.826475\n"
     ]
    }
   ],
   "source": [
    "from sklearn.preprocessing import FunctionTransformer\n",
    "\n",
    "extract_text = FunctionTransformer(lambda x: x['text'], validate=False)\n",
    "text_data = extract_text.fit_transform(dataset)\n",
    "\n",
    "extract_numeric = FunctionTransformer(lambda x: x[['numeric', 'with_missing']], validate=False)\n",
    "numeric_data = extract_numeric.fit_transform(dataset)\n",
    "\n",
    "print('Extracting Text Data')\n",
    "print(text_data.head())\n",
    "print('Extracting Numeric Data')\n",
    "print(numeric_data.head())"
   ]
  },
  {
   "cell_type": "code",
   "execution_count": 14,
   "metadata": {},
   "outputs": [
    {
     "name": "stdout",
     "output_type": "stream",
     "text": [
      "Accuracy on all dataset: 0.9040\n"
     ]
    }
   ],
   "source": [
    "from sklearn.pipeline import FeatureUnion\n",
    "\n",
    "X_train, X_test, y_train, y_test = train_test_split(dataset[['numeric', 'with_missing', 'text']],\n",
    "                                                    pd.get_dummies(dataset['label']))\n",
    "\n",
    "pip = Pipeline([\n",
    "        ('union', FeatureUnion(\n",
    "            transformer_list = [\n",
    "                ('numeric_features', Pipeline([\n",
    "                    ('selector', extract_numeric),\n",
    "                    ('imputer', Imputer())\n",
    "                ])),\n",
    "                ('text_features', Pipeline([\n",
    "                    ('selector', extract_text),\n",
    "                    ('vectorizer', CountVectorizer())\n",
    "                ]))\n",
    "             ]\n",
    "        )),\n",
    "        ('clf', OneVsRestClassifier(LogisticRegression()))\n",
    "    ])\n",
    "\n",
    "pip.fit(X_train, y_train)\n",
    "pred_prob_LR = pip.predict_proba(X_test)[:,0]\n",
    "\n",
    "accuracy = pip.score(X_test, y_test)\n",
    "print(\"Accuracy on all dataset: %.4f\"% accuracy)"
   ]
  },
  {
   "cell_type": "code",
   "execution_count": 15,
   "metadata": {},
   "outputs": [
    {
     "name": "stdout",
     "output_type": "stream",
     "text": [
      "Accuracy on all dataset: 0.7240\n"
     ]
    }
   ],
   "source": [
    "from sklearn.feature_selection import chi2, SelectKBest\n",
    "from sklearn.preprocessing import MaxAbsScaler\n",
    "chi_k = 2 # 300\n",
    "TOKENS_ALPHANUMERIC = '[A-Za-z0-9]+(?=\\\\s+)'\n",
    "pip = Pipeline([\n",
    "        ('union', FeatureUnion(\n",
    "            transformer_list = [\n",
    "                ('numeric_features', Pipeline([\n",
    "                    ('selector', extract_numeric),\n",
    "                    ('imputer', Imputer())\n",
    "                ])),\n",
    "                ('text_features', Pipeline([\n",
    "                    ('selector', extract_text),\n",
    "                    ('vectorizer', CountVectorizer(token_pattern=TOKENS_ALPHANUMERIC,\n",
    "                                                   ngram_range=(1,2))),\n",
    "                    ('dim_red', SelectKBest(chi2, chi_k))\n",
    "                ]))\n",
    "             ]\n",
    "        )),\n",
    "        ('scale', MaxAbsScaler()), \n",
    "        ('clf', OneVsRestClassifier(LogisticRegression()))\n",
    "    ])\n",
    "\n",
    "pip.fit(X_train, y_train)\n",
    "pred_prob_M_LR = pip.predict_proba(X_test)[:,0]\n",
    "\n",
    "print(\"Accuracy on all dataset: %.4f\"% pip.score(X_test, y_test))"
   ]
  },
  {
   "cell_type": "code",
   "execution_count": 16,
   "metadata": {},
   "outputs": [
    {
     "name": "stdout",
     "output_type": "stream",
     "text": [
      "Accuracy on all dataset: 0.8680\n"
     ]
    }
   ],
   "source": [
    "from sklearn.tree import DecisionTreeClassifier\n",
    "\n",
    "pip = Pipeline([\n",
    "        ('union', FeatureUnion(\n",
    "            transformer_list = [\n",
    "                ('numeric_features', Pipeline([\n",
    "                    ('selector', extract_numeric),\n",
    "                    ('imputer', Imputer())\n",
    "                ])),\n",
    "                ('text_features', Pipeline([\n",
    "                    ('selector', extract_text),\n",
    "                    ('vectorizer', CountVectorizer())\n",
    "                ]))\n",
    "             ]\n",
    "        )),\n",
    "        ('clf', DecisionTreeClassifier())\n",
    "    ])\n",
    "\n",
    "pip.fit(X_train, y_train)\n",
    "pred_prob_DT = pip.predict_proba(X_test)[0][:,1]\n",
    "\n",
    "print(\"Accuracy on all dataset: %.4f\"% pip.score(X_test, y_test)  )"
   ]
  },
  {
   "cell_type": "code",
   "execution_count": 17,
   "metadata": {},
   "outputs": [
    {
     "name": "stdout",
     "output_type": "stream",
     "text": [
      "Accuracy on all dataset: 0.8680\n"
     ]
    }
   ],
   "source": [
    "from sklearn.preprocessing import StandardScaler\n",
    "pip = Pipeline([\n",
    "        ('union', FeatureUnion(\n",
    "            transformer_list = [\n",
    "                ('numeric_features', Pipeline([\n",
    "                    ('selector', extract_numeric),\n",
    "                    ('imputer', Imputer()),\n",
    "                    ('scaler', StandardScaler())\n",
    "                ])),\n",
    "                ('text_features', Pipeline([\n",
    "                    ('selector', extract_text),\n",
    "                    ('vectorizer', CountVectorizer())\n",
    "                ]))\n",
    "             ]\n",
    "        )),\n",
    "        ('clf', DecisionTreeClassifier())\n",
    "    ])\n",
    "\n",
    "pip.fit(X_train, y_train)\n",
    "pred_prob_SS_DT = pip.predict_proba(X_test)[0][:,1]\n",
    "\n",
    "print(\"Accuracy on all dataset: %.4f\"% pip.score(X_test, y_test)  )"
   ]
  },
  {
   "cell_type": "code",
   "execution_count": 18,
   "metadata": {},
   "outputs": [
    {
     "name": "stdout",
     "output_type": "stream",
     "text": [
      "Accuracy on all dataset: 0.8760\n"
     ]
    }
   ],
   "source": [
    "from sklearn.ensemble import RandomForestClassifier\n",
    "\n",
    "pip = Pipeline([\n",
    "        ('union', FeatureUnion(\n",
    "            transformer_list = [\n",
    "                ('numeric_features', Pipeline([\n",
    "                    ('selector', extract_numeric),\n",
    "                    ('imputer', Imputer())\n",
    "                ])),\n",
    "                ('text_features', Pipeline([\n",
    "                    ('selector', extract_text),\n",
    "                    ('vectorizer', CountVectorizer())\n",
    "                ]))\n",
    "             ]\n",
    "        )),\n",
    "        ('clf', RandomForestClassifier())\n",
    "    ])\n",
    "\n",
    "pip.fit(X_train, y_train) \n",
    "pred_prob_RFC = pip.predict_proba(X_test)[0][:,1]\n",
    "print(\"Accuracy on all dataset: %.4f\"% pip.score(X_test, y_test)  )"
   ]
  },
  {
   "cell_type": "code",
   "execution_count": 19,
   "metadata": {},
   "outputs": [
    {
     "name": "stdout",
     "output_type": "stream",
     "text": [
      "Accuracy on all dataset: 0.8960\n"
     ]
    }
   ],
   "source": [
    "from sklearn.ensemble import RandomForestClassifier\n",
    "\n",
    "pip = Pipeline([\n",
    "        ('union', FeatureUnion(\n",
    "            transformer_list = [\n",
    "                ('numeric_features', Pipeline([\n",
    "                    ('selector', extract_numeric),\n",
    "                    ('imputer', Imputer())\n",
    "                ])),\n",
    "                ('text_features', Pipeline([\n",
    "                    ('selector', extract_text),\n",
    "                    ('vectorizer', CountVectorizer())\n",
    "                ]))\n",
    "             ]\n",
    "        )),\n",
    "        ('clf', RandomForestClassifier(n_estimators=15))\n",
    "    ])\n",
    "\n",
    "pip.fit(X_train, y_train)\n",
    "pred_prob_RFC_15 = pip.predict_proba(X_test)[0][:,1]\n",
    "\n",
    "print(\"Accuracy on all dataset: %.4f\"% pip.score(X_test, y_test)  )"
   ]
  },
  {
   "cell_type": "code",
   "execution_count": 20,
   "metadata": {},
   "outputs": [
    {
     "data": {
      "image/png": "[encoded data removed]",
      "text/plain": [
       "<matplotlib.figure.Figure at 0x11800cb38>"
      ]
     },
     "metadata": {},
     "output_type": "display_data"
    }
   ],
   "source": [
    "from sklearn.metrics import roc_curve,roc_auc_score,auc\n",
    "for label,y_pred_prob in zip([\"LR\",\"MLR\",\"DTC\",\"SS_DTC\",\"RFC\",\"RFC_15\"],\n",
    "                    [pred_prob_LR,pred_prob_M_LR,pred_prob_DT,pred_prob_SS_DT,pred_prob_RFC,pred_prob_RFC_15]):\n",
    "    fpr,tpr, _ = roc_curve(y_test.iloc[:,0], y_pred_prob)\n",
    "    plt.plot(fpr, tpr,label=label+str(\", AUC: %.4f\"%auc(fpr,tpr)))\n",
    "\n",
    "plt.plot([0, 1], [0, 1], 'k--')\n",
    "plt.xlabel('False Positive Rate')\n",
    "plt.ylabel('True Positive Rate')\n",
    "plt.legend(loc='best')\n",
    "plt.show()"
   ]
  },
  {
   "cell_type": "code",
   "execution_count": 31,
   "metadata": {},
   "outputs": [
    {
     "name": "stdout",
     "output_type": "stream",
     "text": [
      "train_sizes: [ 80 131 182 234 285 337 388 440 491 542 594 645 697 748 800]\n"
     ]
    },
    {
     "data": {
      "image/png": "[encoded data removed]",
      "text/plain": [
       "<matplotlib.figure.Figure at 0x118844668>"
      ]
     },
     "metadata": {},
     "output_type": "display_data"
    }
   ],
   "source": [
    "from sklearn.model_selection import learning_curve\n",
    "from sklearn.model_selection import ShuffleSplit\n",
    "plt.figure()\n",
    "plt.title(\"RandomForestClassifier\")\n",
    "plt.xlabel(\"Training examples\")\n",
    "plt.ylabel(\"Score\")\n",
    "cv = ShuffleSplit(n_splits=100, test_size=0.2)\n",
    "train_sizes, train_scores, test_scores = learning_curve(\n",
    "    pip, dataset[['numeric', 'with_missing', 'text']], pd.get_dummies(dataset['label']),\n",
    "    cv=cv,train_sizes=np.linspace(.1, 1.0, 15))\n",
    "train_scores_mean = np.mean(train_scores, axis=1)\n",
    "train_scores_std = np.std(train_scores, axis=1)\n",
    "test_scores_mean = np.mean(test_scores, axis=1)\n",
    "test_scores_std = np.std(test_scores, axis=1)\n",
    "plt.grid()\n",
    "print('train_sizes:',train_sizes)\n",
    "plt.fill_between(train_sizes, train_scores_mean - train_scores_std,\n",
    "                 train_scores_mean + train_scores_std, alpha=0.1,\n",
    "                 color=\"r\")\n",
    "plt.fill_between(train_sizes, test_scores_mean - test_scores_std,\n",
    "                 test_scores_mean + test_scores_std, alpha=0.1, color=\"g\")\n",
    "plt.plot(train_sizes, train_scores_mean, 'o-', color=\"r\",\n",
    "         label=\"Training score\")\n",
    "plt.plot(train_sizes, test_scores_mean, 'o-', color=\"g\",\n",
    "         label=\"Cross-validation score\")\n",
    "plt.legend(loc=\"lower right\");"
   ]
  },
  {
   "cell_type": "code",
   "execution_count": 32,
   "metadata": {},
   "outputs": [
    {
     "data": {
      "text/plain": [
       "{'memory': None, 'steps': [('union', FeatureUnion(n_jobs=1,\n",
       "          transformer_list=[('numeric_features', Pipeline(memory=None,\n",
       "        steps=[('selector', FunctionTransformer(accept_sparse=False,\n",
       "             func=<function <lambda> at 0x117ff1ea0>, inv_kw_args=None,\n",
       "             inverse_func=None, kw_args=None, pass_y='deprecated',\n",
       "             validate=False)), ('imputer', ...strip_accents=None, token_pattern='(?u)\\\\b\\\\w\\\\w+\\\\b',\n",
       "           tokenizer=None, vocabulary=None))]))],\n",
       "          transformer_weights=None)),\n",
       "  ('clf',\n",
       "   RandomForestClassifier(bootstrap=True, class_weight=None, criterion='gini',\n",
       "               max_depth=None, max_features='auto', max_leaf_nodes=None,\n",
       "               min_impurity_decrease=0.0, min_impurity_split=None,\n",
       "               min_samples_leaf=1, min_samples_split=2,\n",
       "               min_weight_fraction_leaf=0.0, n_estimators=15, n_jobs=1,\n",
       "               oob_score=False, random_state=None, verbose=0,\n",
       "               warm_start=False))], 'union': FeatureUnion(n_jobs=1,\n",
       "        transformer_list=[('numeric_features', Pipeline(memory=None,\n",
       "      steps=[('selector', FunctionTransformer(accept_sparse=False,\n",
       "           func=<function <lambda> at 0x117ff1ea0>, inv_kw_args=None,\n",
       "           inverse_func=None, kw_args=None, pass_y='deprecated',\n",
       "           validate=False)), ('imputer', ...strip_accents=None, token_pattern='(?u)\\\\b\\\\w\\\\w+\\\\b',\n",
       "         tokenizer=None, vocabulary=None))]))],\n",
       "        transformer_weights=None), 'clf': RandomForestClassifier(bootstrap=True, class_weight=None, criterion='gini',\n",
       "             max_depth=None, max_features='auto', max_leaf_nodes=None,\n",
       "             min_impurity_decrease=0.0, min_impurity_split=None,\n",
       "             min_samples_leaf=1, min_samples_split=2,\n",
       "             min_weight_fraction_leaf=0.0, n_estimators=15, n_jobs=1,\n",
       "             oob_score=False, random_state=None, verbose=0,\n",
       "             warm_start=False), 'union__n_jobs': 1, 'union__transformer_list': [('numeric_features',\n",
       "   Pipeline(memory=None,\n",
       "        steps=[('selector', FunctionTransformer(accept_sparse=False,\n",
       "             func=<function <lambda> at 0x117ff1ea0>, inv_kw_args=None,\n",
       "             inverse_func=None, kw_args=None, pass_y='deprecated',\n",
       "             validate=False)), ('imputer', Imputer(axis=0, copy=True, missing_values='NaN', strategy='mean', verbose=0))])),\n",
       "  ('text_features', Pipeline(memory=None,\n",
       "        steps=[('selector', FunctionTransformer(accept_sparse=False,\n",
       "             func=<function <lambda> at 0x117ff1e18>, inv_kw_args=None,\n",
       "             inverse_func=None, kw_args=None, pass_y='deprecated',\n",
       "             validate=False)), ('vectorizer', CountVectorizer(analyzer='word', binary=False, decode_error='st...   strip_accents=None, token_pattern='(?u)\\\\b\\\\w\\\\w+\\\\b',\n",
       "           tokenizer=None, vocabulary=None))]))], 'union__transformer_weights': None, 'union__numeric_features': Pipeline(memory=None,\n",
       "      steps=[('selector', FunctionTransformer(accept_sparse=False,\n",
       "           func=<function <lambda> at 0x117ff1ea0>, inv_kw_args=None,\n",
       "           inverse_func=None, kw_args=None, pass_y='deprecated',\n",
       "           validate=False)), ('imputer', Imputer(axis=0, copy=True, missing_values='NaN', strategy='mean', verbose=0))]), 'union__text_features': Pipeline(memory=None,\n",
       "      steps=[('selector', FunctionTransformer(accept_sparse=False,\n",
       "           func=<function <lambda> at 0x117ff1e18>, inv_kw_args=None,\n",
       "           inverse_func=None, kw_args=None, pass_y='deprecated',\n",
       "           validate=False)), ('vectorizer', CountVectorizer(analyzer='word', binary=False, decode_error='st...   strip_accents=None, token_pattern='(?u)\\\\b\\\\w\\\\w+\\\\b',\n",
       "         tokenizer=None, vocabulary=None))]), 'union__numeric_features__memory': None, 'union__numeric_features__steps': [('selector',\n",
       "   FunctionTransformer(accept_sparse=False,\n",
       "             func=<function <lambda> at 0x117ff1ea0>, inv_kw_args=None,\n",
       "             inverse_func=None, kw_args=None, pass_y='deprecated',\n",
       "             validate=False)),\n",
       "  ('imputer',\n",
       "   Imputer(axis=0, copy=True, missing_values='NaN', strategy='mean', verbose=0))], 'union__numeric_features__selector': FunctionTransformer(accept_sparse=False,\n",
       "           func=<function <lambda> at 0x117ff1ea0>, inv_kw_args=None,\n",
       "           inverse_func=None, kw_args=None, pass_y='deprecated',\n",
       "           validate=False), 'union__numeric_features__imputer': Imputer(axis=0, copy=True, missing_values='NaN', strategy='mean', verbose=0), 'union__numeric_features__selector__accept_sparse': False, 'union__numeric_features__selector__func': <function __main__.<lambda>(x)>, 'union__numeric_features__selector__inv_kw_args': None, 'union__numeric_features__selector__inverse_func': None, 'union__numeric_features__selector__kw_args': None, 'union__numeric_features__selector__pass_y': 'deprecated', 'union__numeric_features__selector__validate': False, 'union__numeric_features__imputer__axis': 0, 'union__numeric_features__imputer__copy': True, 'union__numeric_features__imputer__missing_values': 'NaN', 'union__numeric_features__imputer__strategy': 'mean', 'union__numeric_features__imputer__verbose': 0, 'union__text_features__memory': None, 'union__text_features__steps': [('selector',\n",
       "   FunctionTransformer(accept_sparse=False,\n",
       "             func=<function <lambda> at 0x117ff1e18>, inv_kw_args=None,\n",
       "             inverse_func=None, kw_args=None, pass_y='deprecated',\n",
       "             validate=False)),\n",
       "  ('vectorizer',\n",
       "   CountVectorizer(analyzer='word', binary=False, decode_error='strict',\n",
       "           dtype=<class 'numpy.int64'>, encoding='utf-8', input='content',\n",
       "           lowercase=True, max_df=1.0, max_features=None, min_df=1,\n",
       "           ngram_range=(1, 1), preprocessor=None, stop_words=None,\n",
       "           strip_accents=None, token_pattern='(?u)\\\\b\\\\w\\\\w+\\\\b',\n",
       "           tokenizer=None, vocabulary=None))], 'union__text_features__selector': FunctionTransformer(accept_sparse=False,\n",
       "           func=<function <lambda> at 0x117ff1e18>, inv_kw_args=None,\n",
       "           inverse_func=None, kw_args=None, pass_y='deprecated',\n",
       "           validate=False), 'union__text_features__vectorizer': CountVectorizer(analyzer='word', binary=False, decode_error='strict',\n",
       "         dtype=<class 'numpy.int64'>, encoding='utf-8', input='content',\n",
       "         lowercase=True, max_df=1.0, max_features=None, min_df=1,\n",
       "         ngram_range=(1, 1), preprocessor=None, stop_words=None,\n",
       "         strip_accents=None, token_pattern='(?u)\\\\b\\\\w\\\\w+\\\\b',\n",
       "         tokenizer=None, vocabulary=None), 'union__text_features__selector__accept_sparse': False, 'union__text_features__selector__func': <function __main__.<lambda>(x)>, 'union__text_features__selector__inv_kw_args': None, 'union__text_features__selector__inverse_func': None, 'union__text_features__selector__kw_args': None, 'union__text_features__selector__pass_y': 'deprecated', 'union__text_features__selector__validate': False, 'union__text_features__vectorizer__analyzer': 'word', 'union__text_features__vectorizer__binary': False, 'union__text_features__vectorizer__decode_error': 'strict', 'union__text_features__vectorizer__dtype': numpy.int64, 'union__text_features__vectorizer__encoding': 'utf-8', 'union__text_features__vectorizer__input': 'content', 'union__text_features__vectorizer__lowercase': True, 'union__text_features__vectorizer__max_df': 1.0, 'union__text_features__vectorizer__max_features': None, 'union__text_features__vectorizer__min_df': 1, 'union__text_features__vectorizer__ngram_range': (1,\n",
       "  1), 'union__text_features__vectorizer__preprocessor': None, 'union__text_features__vectorizer__stop_words': None, 'union__text_features__vectorizer__strip_accents': None, 'union__text_features__vectorizer__token_pattern': '(?u)\\\\b\\\\w\\\\w+\\\\b', 'union__text_features__vectorizer__tokenizer': None, 'union__text_features__vectorizer__vocabulary': None, 'clf__bootstrap': True, 'clf__class_weight': None, 'clf__criterion': 'gini', 'clf__max_depth': None, 'clf__max_features': 'auto', 'clf__max_leaf_nodes': None, 'clf__min_impurity_decrease': 0.0, 'clf__min_impurity_split': None, 'clf__min_samples_leaf': 1, 'clf__min_samples_split': 2, 'clf__min_weight_fraction_leaf': 0.0, 'clf__n_estimators': 15, 'clf__n_jobs': 1, 'clf__oob_score': False, 'clf__random_state': None, 'clf__verbose': 0, 'clf__warm_start': False}"
      ]
     },
     "execution_count": 32,
     "metadata": {},
     "output_type": "execute_result"
    }
   ],
   "source": [
    "pip.get_params()"
   ]
  },
  {
   "cell_type": "code",
   "execution_count": 41,
   "metadata": {},
   "outputs": [
    {
     "name": "stdout",
     "output_type": "stream",
     "text": [
      "[0.9205875 0.9359    0.9473875 0.9586    0.9709875 0.9811375 0.9875875\n",
      " 0.9916125 0.9941875 0.9949875 0.995525  0.995825 ] [0.00968158 0.00520541 0.00513899 0.00464449 0.00470138 0.00354919\n",
      " 0.00350114 0.00313894 0.00252101 0.00233516 0.00254448 0.00231314]\n"
     ]
    },
    {
     "data": {
      "image/png": "[encoded data removed]",
      "text/plain": [
       "<matplotlib.figure.Figure at 0x118ccbf28>"
      ]
     },
     "metadata": {},
     "output_type": "display_data"
    }
   ],
   "source": [
    "param_range = np.linspace(3,14,12,dtype=int)\n",
    "from sklearn.model_selection import validation_curve\n",
    "train_scores, test_scores = validation_curve(\n",
    "    pip, dataset[['numeric', 'with_missing', 'text']], pd.get_dummies(dataset['label']),\n",
    "    param_name=\"clf__max_depth\", param_range=param_range,\n",
    "    cv=cv, scoring=\"accuracy\")\n",
    "train_scores_mean = np.mean(train_scores, axis=1)\n",
    "train_scores_std = np.std(train_scores, axis=1)\n",
    "test_scores_mean = np.mean(test_scores, axis=1)\n",
    "test_scores_std = np.std(test_scores, axis=1)\n",
    "\n",
    "print(train_scores_mean, train_scores_std)\n",
    "\n",
    "plt.title(\"Validation Curve\")\n",
    "plt.xlabel(\"Max Depth\")\n",
    "plt.ylabel(\"Score\")\n",
    "plt.ylim(.6, 1)\n",
    "lw = 2\n",
    "plt.semilogx(param_range, train_scores_mean, label=\"Training score\",\n",
    "             color=\"darkorange\", lw=lw)\n",
    "plt.fill_between(param_range, train_scores_mean - train_scores_std,\n",
    "                 train_scores_mean + train_scores_std, alpha=0.2,\n",
    "                 color=\"darkorange\", lw=lw)\n",
    "plt.semilogx(param_range, test_scores_mean, label=\"Cross-validation score\",\n",
    "             color=\"navy\", lw=lw)\n",
    "plt.fill_between(param_range, test_scores_mean - test_scores_std,\n",
    "                 test_scores_mean + test_scores_std, alpha=0.2,\n",
    "                 color=\"navy\", lw=lw)\n",
    "plt.xticks(param_range,param_range)\n",
    "plt.legend(loc=\"best\")\n",
    "plt.show();"
   ]
  },
  {
   "cell_type": "code",
   "execution_count": null,
   "metadata": {},
   "outputs": [],
   "source": []
  }
 ],
 "metadata": {
  "kernelspec": {
   "display_name": "Python 3",
   "language": "python",
   "name": "python3"
  },
  "language_info": {
   "codemirror_mode": {
    "name": "ipython",
    "version": 3
   },
   "file_extension": ".py",
   "mimetype": "text/x-python",
   "name": "python",
   "nbconvert_exporter": "python",
   "pygments_lexer": "ipython3",
   "version": "3.6.5"
  }
 },
 "nbformat": 4,
 "nbformat_minor": 2
}
